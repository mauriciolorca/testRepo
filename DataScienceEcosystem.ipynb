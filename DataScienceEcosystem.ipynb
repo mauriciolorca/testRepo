{
 "cells": [
  {
   "cell_type": "markdown",
   "id": "f383e019",
   "metadata": {},
   "source": [
    "# Data Science Tools and Ecosystem"
   ]
  },
  {
   "cell_type": "markdown",
   "id": "0fb4f043",
   "metadata": {},
   "source": [
    "In this notebook, Data Science Tools and Ecosystem are summarized."
   ]
  },
  {
   "cell_type": "markdown",
   "id": "1c8d5944",
   "metadata": {},
   "source": [
    "**Objectives:\n",
    "- List popular languages for Data Science\n",
    "- Overview of Data Science Tools\n",
    "- Packages, APIsk, Data Sets and Models"
   ]
  },
  {
   "cell_type": "markdown",
   "id": "04dd1065",
   "metadata": {},
   "source": [
    "Some of the popular languages that Data Scientists use are:\n",
    "    1. R\n",
    "    2. Python\n",
    "    3. SQL"
   ]
  },
  {
   "cell_type": "markdown",
   "id": "d4d9c04b",
   "metadata": {},
   "source": [
    "Some of the commonly used libraries used by Data Scientists include:\n",
    "    1. NumPy\n",
    "    2. Pandas\n",
    "    3. Scikit-learn\n"
   ]
  },
  {
   "cell_type": "markdown",
   "id": "abe7f073",
   "metadata": {},
   "source": [
    "| Data Science Tools |\n",
    "| ---- |\n",
    "| R Studio |\n",
    "| Jupyter Notebook |\n",
    "| Apache Zeppelin |\n"
   ]
  },
  {
   "cell_type": "markdown",
   "id": "62fbb40a",
   "metadata": {},
   "source": [
    "### Below are a few examples of evaluating arithmetic expressions in Python\n",
    "x = 10; y = 3\n",
    "print(\"Operadores aritméticos\")\n",
    "print(\"x+y =\", x+y)   #13\n",
    "print(\"x-y =\", x-y)   #7\n",
    "print(\"x*y =\", x*y)   #30\n",
    "print(\"x/y =\", x/y)   #3.3333333333333335\n",
    "print(\"x%y =\", x%y)   #1\n",
    "print(\"x**y =\", x**y) #1000\n",
    "print(\"x//y =\", x//y) #3\n"
   ]
  },
  {
   "cell_type": "code",
   "execution_count": 1,
   "id": "de742c8f",
   "metadata": {},
   "outputs": [
    {
     "name": "stdout",
     "output_type": "stream",
     "text": [
      "(3*4)+5 17\n"
     ]
    }
   ],
   "source": [
    "# This a simple arithmetic expression to mutiply then add integers\n",
    "x = 3\n",
    "y = 4\n",
    "z = 5\n",
    "print(\"(3*4)+5\", (3*4)+5) #17"
   ]
  },
  {
   "cell_type": "code",
   "execution_count": 3,
   "id": "8d97726d",
   "metadata": {},
   "outputs": [
    {
     "name": "stdout",
     "output_type": "stream",
     "text": [
      "200 minutes = 3.3333333333333335 hours\n"
     ]
    }
   ],
   "source": [
    "# This will convert 200 minutes to hours by diving by 60\n",
    "minutes = 200\n",
    "hour = 60\n",
    "print(minutes, \"minutes =\", minutes/hour, \"hours\")"
   ]
  },
  {
   "cell_type": "markdown",
   "id": "be1112e2",
   "metadata": {},
   "source": [
    "## Author\n",
    "Mauricio LORCA"
   ]
  },
  {
   "cell_type": "code",
   "execution_count": null,
   "id": "262e8c10",
   "metadata": {},
   "outputs": [],
   "source": []
  }
 ],
 "metadata": {
  "kernelspec": {
   "display_name": "Python 3 (ipykernel)",
   "language": "python",
   "name": "python3"
  },
  "language_info": {
   "codemirror_mode": {
    "name": "ipython",
    "version": 3
   },
   "file_extension": ".py",
   "mimetype": "text/x-python",
   "name": "python",
   "nbconvert_exporter": "python",
   "pygments_lexer": "ipython3",
   "version": "3.11.5"
  }
 },
 "nbformat": 4,
 "nbformat_minor": 5
}
